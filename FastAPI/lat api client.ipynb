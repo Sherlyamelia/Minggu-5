{
 "cells": [
  {
   "cell_type": "code",
   "execution_count": 3,
   "id": "cf5a80a6-a34c-4179-8f1a-d9b7517e10f7",
   "metadata": {},
   "outputs": [
    {
     "name": "stdout",
     "output_type": "stream",
     "text": [
      "Response Text: {\"id\":3,\"customer\":{\"name\":\"Nabila\",\"address\":\"Jl. Merdeka Barat\",\"phone\":\"081211223344\",\"age\":17}}\n",
      "{'id': 3, 'customer': {'name': 'Nabila', 'address': 'Jl. Merdeka Barat', 'phone': '081211223344', 'age': 17}}\n"
     ]
    }
   ],
   "source": [
    "import requests\n",
    "\n",
    "def add_customer(name, address, phone, age):\n",
    "    base_url = \"http://127.0.0.1:8000/customers/\"\n",
    "    \n",
    "    # Data customer baru yang akan ditambahkan\n",
    "    new_customer = {\n",
    "        \"name\": name,\n",
    "        \"address\": address,\n",
    "        \"phone\": phone,\n",
    "        \"age\": age\n",
    "    }\n",
    "    \n",
    "    # Kirim request POST ke server FastAPI\n",
    "    response = requests.post(base_url, json=new_customer)\n",
    "    \n",
    "    # Debug: print respons sebagai teks\n",
    "    print(\"Response Text:\", response.text)\n",
    "    \n",
    "    # Coba parsing respons sebagai JSON\n",
    "    try:\n",
    "        print(response.json())\n",
    "    except requests.exceptions.JSONDecodeError:\n",
    "        print(\"Error: Tidak bisa mem-parsing respons sebagai JSON.\")\n",
    "        \n",
    "if __name__ == \"__main__\":\n",
    "    # Tambah customer baru\n",
    "    add_customer(\"Nabila\", \"Jl. Merdeka Barat\", \"081211223344\", 17)\n"
   ]
  },
  {
   "cell_type": "code",
   "execution_count": 11,
   "id": "8e8853ff-8a97-43d6-94d9-aee12cf5aef4",
   "metadata": {},
   "outputs": [
    {
     "name": "stdout",
     "output_type": "stream",
     "text": [
      "{'name': 'Nabila', 'address': 'Jl. Merdeka Barat', 'phone': 81211223344, 'age': 17}\n"
     ]
    }
   ],
   "source": [
    "response = requests.get(\"http://127.0.0.1:8000/customers/3\")\n",
    "print(response.json())"
   ]
  },
  {
   "cell_type": "code",
   "execution_count": null,
   "id": "0f6e8a44-94d2-4465-8542-9c36a2b94076",
   "metadata": {},
   "outputs": [],
   "source": []
  }
 ],
 "metadata": {
  "kernelspec": {
   "display_name": "Python 3 (ipykernel)",
   "language": "python",
   "name": "python3"
  },
  "language_info": {
   "codemirror_mode": {
    "name": "ipython",
    "version": 3
   },
   "file_extension": ".py",
   "mimetype": "text/x-python",
   "name": "python",
   "nbconvert_exporter": "python",
   "pygments_lexer": "ipython3",
   "version": "3.12.4"
  }
 },
 "nbformat": 4,
 "nbformat_minor": 5
}
