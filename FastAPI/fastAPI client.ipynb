{
 "cells": [
  {
   "cell_type": "code",
   "execution_count": 5,
   "id": "722ed82c-c8ec-4ef6-a0e1-e855d1d29019",
   "metadata": {},
   "outputs": [
    {
     "name": "stdout",
     "output_type": "stream",
     "text": [
      "{'message': 'Hello, FastAPI dari planet Jupyter!'}\n"
     ]
    }
   ],
   "source": [
    "#Fast API Client\n",
    "import requests\n",
    "\n",
    "response = requests.get(\"http://127.0.0.1:8000/\")\n",
    "print(response.json())"
   ]
  },
  {
   "cell_type": "code",
   "execution_count": 7,
   "id": "8127329e-2855-46f3-ac10-a331dacd23bc",
   "metadata": {},
   "outputs": [
    {
     "name": "stdout",
     "output_type": "stream",
     "text": [
      "{'id': 3, 'product': {'name': 'Tablet', 'price': 5000.0, 'description': 'Tablet baru dengan layar lebar'}}\n"
     ]
    }
   ],
   "source": [
    "import requests\n",
    "\n",
    "new_product = {\n",
    "    \"name\": \"Tablet\",\n",
    "    \"price\": 5000,\n",
    "    \"description\": \"Tablet baru dengan layar lebar\"\n",
    "}\n",
    "\n",
    "response = requests.post(\"http://127.0.0.1:8000/products/\", json=new_product)\n",
    "print(response.json())"
   ]
  },
  {
   "cell_type": "code",
   "execution_count": 9,
   "id": "3e067e4c-554a-4f25-aaee-e0bff4283241",
   "metadata": {},
   "outputs": [
    {
     "name": "stdout",
     "output_type": "stream",
     "text": [
      "{'1': {'name': 'Laptop', 'price': 15000, 'description': 'Laptop gaming high-end'}, '2': {'name': 'Smartphone', 'price': 7000, 'description': 'Smartphone terbaru dengan kamera bagus'}, '3': {'name': 'Tablet', 'price': 5000.0, 'description': 'Tablet baru dengan layar lebar'}}\n"
     ]
    }
   ],
   "source": [
    "response = requests.get(\"http://127.0.0.1:8000/products/\")\n",
    "print(response.json())"
   ]
  },
  {
   "cell_type": "code",
   "execution_count": 11,
   "id": "c35aa6db-6465-42de-8fd1-2e8b8a977fdc",
   "metadata": {},
   "outputs": [
    {
     "name": "stdout",
     "output_type": "stream",
     "text": [
      "{'name': 'Laptop', 'price': 15000, 'description': 'Laptop gaming high-end'}\n"
     ]
    }
   ],
   "source": [
    "response = requests.get(\"http://127.0.0.1:8000/products/1\")\n",
    "print(response.json())"
   ]
  },
  {
   "cell_type": "code",
   "execution_count": 13,
   "id": "b0b496bc-1dd0-4f5d-a3ca-b82f50c68c14",
   "metadata": {},
   "outputs": [
    {
     "name": "stdout",
     "output_type": "stream",
     "text": [
      "{'id': 1, 'product': {'name': 'Laptop Gaming', 'price': 18000.0, 'description': 'Laptop gaming high-end dengan kartu grafis terbaru'}}\n"
     ]
    }
   ],
   "source": [
    "updated_product = {\n",
    "    \"name\": \"Laptop Gaming\",\n",
    "    \"price\": 18000,\n",
    "    \"description\": \"Laptop gaming high-end dengan kartu grafis terbaru\"\n",
    "}\n",
    "\n",
    "response = requests.put(\"http://127.0.0.1:8000/products/1\", json=updated_product)\n",
    "print(response.json())"
   ]
  },
  {
   "cell_type": "code",
   "execution_count": null,
   "id": "0f194531-cd99-4f2f-8885-3ae33ce4223b",
   "metadata": {},
   "outputs": [],
   "source": []
  }
 ],
 "metadata": {
  "kernelspec": {
   "display_name": "Python 3 (ipykernel)",
   "language": "python",
   "name": "python3"
  },
  "language_info": {
   "codemirror_mode": {
    "name": "ipython",
    "version": 3
   },
   "file_extension": ".py",
   "mimetype": "text/x-python",
   "name": "python",
   "nbconvert_exporter": "python",
   "pygments_lexer": "ipython3",
   "version": "3.12.4"
  }
 },
 "nbformat": 4,
 "nbformat_minor": 5
}
