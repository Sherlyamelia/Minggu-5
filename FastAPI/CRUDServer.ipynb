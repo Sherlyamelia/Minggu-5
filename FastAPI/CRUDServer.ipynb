{
 "cells": [
  {
   "cell_type": "code",
   "execution_count": 5,
   "id": "b8639a54-11dd-4a94-8e8d-d114e143a29a",
   "metadata": {},
   "outputs": [
    {
     "name": "stdout",
     "output_type": "stream",
     "text": [
      "Requirement already satisfied: fastapi in c:\\users\\asus\\anaconda3\\lib\\site-packages (0.115.0)\n",
      "Requirement already satisfied: uvicorn in c:\\users\\asus\\anaconda3\\lib\\site-packages (0.31.0)\n",
      "Requirement already satisfied: nest_asyncio in c:\\users\\asus\\anaconda3\\lib\\site-packages (1.6.0)\n",
      "Requirement already satisfied: starlette<0.39.0,>=0.37.2 in c:\\users\\asus\\anaconda3\\lib\\site-packages (from fastapi) (0.38.6)\n",
      "Requirement already satisfied: pydantic!=1.8,!=1.8.1,!=2.0.0,!=2.0.1,!=2.1.0,<3.0.0,>=1.7.4 in c:\\users\\asus\\anaconda3\\lib\\site-packages (from fastapi) (2.5.3)\n",
      "Requirement already satisfied: typing-extensions>=4.8.0 in c:\\users\\asus\\anaconda3\\lib\\site-packages (from fastapi) (4.11.0)\n",
      "Requirement already satisfied: click>=7.0 in c:\\users\\asus\\anaconda3\\lib\\site-packages (from uvicorn) (8.1.7)\n",
      "Requirement already satisfied: h11>=0.8 in c:\\users\\asus\\anaconda3\\lib\\site-packages (from uvicorn) (0.14.0)\n",
      "Requirement already satisfied: colorama in c:\\users\\asus\\anaconda3\\lib\\site-packages (from click>=7.0->uvicorn) (0.4.6)\n",
      "Requirement already satisfied: annotated-types>=0.4.0 in c:\\users\\asus\\anaconda3\\lib\\site-packages (from pydantic!=1.8,!=1.8.1,!=2.0.0,!=2.0.1,!=2.1.0,<3.0.0,>=1.7.4->fastapi) (0.6.0)\n",
      "Requirement already satisfied: pydantic-core==2.14.6 in c:\\users\\asus\\anaconda3\\lib\\site-packages (from pydantic!=1.8,!=1.8.1,!=2.0.0,!=2.0.1,!=2.1.0,<3.0.0,>=1.7.4->fastapi) (2.14.6)\n",
      "Requirement already satisfied: anyio<5,>=3.4.0 in c:\\users\\asus\\anaconda3\\lib\\site-packages (from starlette<0.39.0,>=0.37.2->fastapi) (4.2.0)\n",
      "Requirement already satisfied: idna>=2.8 in c:\\users\\asus\\anaconda3\\lib\\site-packages (from anyio<5,>=3.4.0->starlette<0.39.0,>=0.37.2->fastapi) (3.7)\n",
      "Requirement already satisfied: sniffio>=1.1 in c:\\users\\asus\\anaconda3\\lib\\site-packages (from anyio<5,>=3.4.0->starlette<0.39.0,>=0.37.2->fastapi) (1.3.0)\n"
     ]
    }
   ],
   "source": [
    "#LATIHAN DASAR FAST - API\n",
    "#1. Instalasi Paket yang Dibutuhkan\n",
    "#Pastikan Anda telah menginstal FastAPI dan Uvicorn untuk menjalankan server FastAPI. \n",
    "#Jika belum, kerjakan perintah instalasi berikut di sel Jupyter Notebook:\n",
    "\n",
    "!pip install fastapi uvicorn nest_asyncio"
   ]
  },
  {
   "cell_type": "code",
   "execution_count": 11,
   "id": "a2338530-3fa3-4a5d-910c-3035af66c5aa",
   "metadata": {},
   "outputs": [],
   "source": [
    "#2. Jalankan FAST-API dengan mode Loop\n",
    "import nest_asyncio\n",
    "nest_asyncio.apply()"
   ]
  },
  {
   "cell_type": "code",
   "execution_count": null,
   "id": "38dd0a86-b88f-425a-ae3f-fcb78e0aa8c3",
   "metadata": {},
   "outputs": [
    {
     "name": "stderr",
     "output_type": "stream",
     "text": [
      "INFO:     Started server process [9528]\n",
      "INFO:     Waiting for application startup.\n",
      "INFO:     Application startup complete.\n",
      "INFO:     Uvicorn running on http://127.0.0.1:8000 (Press CTRL+C to quit)\n"
     ]
    },
    {
     "name": "stdout",
     "output_type": "stream",
     "text": [
      "INFO:     127.0.0.1:54503 - \"GET / HTTP/1.1\" 200 OK\n"
     ]
    }
   ],
   "source": [
    "#3. Bagian utama dari FAST-API \n",
    "from fastapi import FastAPI\n",
    "import uvicorn\n",
    "\n",
    "# Buat instance dari FastAPI\n",
    "app = FastAPI()\n",
    "\n",
    "# Buat endpoint sederhana (diakses tanpa parameter)\n",
    "@app.get(\"/\")\n",
    "def read_root():\n",
    "    return {\"message\": \"Hello, FastAPI dari planet Jupyter!\"}\n",
    "\n",
    "# Tambah endpoint dengan parameter : /items/1 (atau 2 atau 3)\n",
    "@app.get(\"/items/{item_id}\")\n",
    "def read_item(item_id: int, q: str = None):\n",
    "    if item_id==1:\n",
    "        q='Jeruk'\n",
    "    if item_id==2:\n",
    "        q='Mangga'\n",
    "    if item_id==3:\n",
    "        q='Durian'\n",
    "    return {\"item_id\": item_id, \"q\": q}\n",
    "\n",
    "# Jalankan server FastAPI menggunakan Uvicorn\n",
    "if __name__ == \"__main__\":\n",
    "    uvicorn.run(app, host=\"127.0.0.1\", port=8000)\n"
   ]
  },
  {
   "cell_type": "code",
   "execution_count": null,
   "id": "de61504a-53f2-41ae-a47d-860133f8cb34",
   "metadata": {},
   "outputs": [],
   "source": [
    "#MEMBUAT FAST API untuk  CRUD"
   ]
  },
  {
   "cell_type": "code",
   "execution_count": 1,
   "id": "202b5033-fefd-4ed7-ba6f-58c3d3e50c6b",
   "metadata": {},
   "outputs": [],
   "source": [
    "import nest_asyncio\n",
    "nest_asyncio.apply()"
   ]
  },
  {
   "cell_type": "code",
   "execution_count": null,
   "id": "f08e09b0-ffc7-42a7-8a20-599d10ec69b8",
   "metadata": {},
   "outputs": [
    {
     "name": "stderr",
     "output_type": "stream",
     "text": [
      "INFO:     Started server process [6388]\n",
      "INFO:     Waiting for application startup.\n",
      "INFO:     Application startup complete.\n",
      "INFO:     Uvicorn running on http://127.0.0.1:8000 (Press CTRL+C to quit)\n"
     ]
    },
    {
     "name": "stdout",
     "output_type": "stream",
     "text": [
      "INFO:     127.0.0.1:54654 - \"GET / HTTP/1.1\" 404 Not Found\n",
      "INFO:     127.0.0.1:54675 - \"GET / HTTP/1.1\" 404 Not Found\n",
      "INFO:     127.0.0.1:54802 - \"POST /products/ HTTP/1.1\" 200 OK\n"
     ]
    },
    {
     "name": "stderr",
     "output_type": "stream",
     "text": [
      "C:\\Users\\asus\\AppData\\Local\\Temp\\ipykernel_6388\\1482935817.py:26: PydanticDeprecatedSince20: The `dict` method is deprecated; use `model_dump` instead. Deprecated in Pydantic V2.0 to be removed in V3.0. See Pydantic V2 Migration Guide at https://errors.pydantic.dev/2.5/migration/\n",
      "  fake_products_db[new_id] = product.dict()\n"
     ]
    },
    {
     "name": "stdout",
     "output_type": "stream",
     "text": [
      "INFO:     127.0.0.1:54819 - \"GET /products/ HTTP/1.1\" 200 OK\n",
      "INFO:     127.0.0.1:54822 - \"GET /products/1 HTTP/1.1\" 200 OK\n",
      "INFO:     127.0.0.1:54834 - \"PUT /products/1 HTTP/1.1\" 200 OK\n"
     ]
    },
    {
     "name": "stderr",
     "output_type": "stream",
     "text": [
      "C:\\Users\\asus\\AppData\\Local\\Temp\\ipykernel_6388\\1482935817.py:47: PydanticDeprecatedSince20: The `dict` method is deprecated; use `model_dump` instead. Deprecated in Pydantic V2.0 to be removed in V3.0. See Pydantic V2 Migration Guide at https://errors.pydantic.dev/2.5/migration/\n",
      "  fake_products_db[product_id] = product.dict()\n"
     ]
    }
   ],
   "source": [
    "#1. Membuat Struktur Data\n",
    "#Produk akan disimpan dalam dictionary dengan ID produk sebagai kuncinya.\n",
    "from fastapi import FastAPI, HTTPException\n",
    "from pydantic import BaseModel\n",
    "from fastapi import FastAPI\n",
    "import uvicorn\n",
    "# Inisialisasi aplikasi FastAPI\n",
    "app = FastAPI()\n",
    "\n",
    "# Simpan data produk dalam memori menggunakan dictionary\n",
    "fake_products_db = {\n",
    "    1: {\"name\": \"Laptop\", \"price\": 15000, \"description\": \"Laptop gaming high-end\"},\n",
    "    2: {\"name\": \"Smartphone\", \"price\": 7000, \"description\": \"Smartphone terbaru dengan kamera bagus\"},\n",
    "}\n",
    "\n",
    "# Model Pydantic untuk validasi input\n",
    "class Product(BaseModel):\n",
    "    name: str\n",
    "    price: float\n",
    "    description: str = None\n",
    "\n",
    "#Bagian untuk menambahkan data produk baru\n",
    "@app.post(\"/products/\")\n",
    "def create_product(product: Product):\n",
    "    new_id = max(fake_products_db.keys()) + 1\n",
    "    fake_products_db[new_id] = product.dict()\n",
    "    return {\"id\": new_id, \"product\": product}\n",
    "\n",
    "#Bagian untuk menampilkan daftar produk yang sudah ada\n",
    "@app.get(\"/products/\")\n",
    "def get_products():\n",
    "    return fake_products_db\n",
    "\n",
    "#bagian untuk menampilkan produk tertentu berdasarkan ID\n",
    "@app.get(\"/products/{product_id}\")\n",
    "def read_product(product_id: int):\n",
    "    product = fake_products_db.get(product_id)\n",
    "    if product is None:\n",
    "        raise HTTPException(status_code=404, detail=\"Product not found\")\n",
    "    return product\n",
    "\n",
    "#Bagian untuk memperbaiki data produk tertentu berdasarkan ID dan nama produknya\n",
    "@app.put(\"/products/{product_id}\")\n",
    "def update_product(product_id: int, product: Product):\n",
    "    if product_id not in fake_products_db:\n",
    "        raise HTTPException(status_code=404, detail=\"Product not found\")\n",
    "    fake_products_db[product_id] = product.dict()\n",
    "    return {\"id\": product_id, \"product\": product}\n",
    "\n",
    "#Bagian untuk menghapus data produk tertentu\n",
    "@app.delete(\"/products/{product_id}\")\n",
    "def delete_product(product_id: int):\n",
    "    if product_id not in fake_products_db:\n",
    "        raise HTTPException(status_code=404, detail=\"Product not found\")\n",
    "    del fake_products_db[product_id]\n",
    "    return {\"message\": f\"Product {product_id} deleted successfully\"}\n",
    "\n",
    "# Jalankan server FastAPI menggunakan Uvicorn\n",
    "if __name__ == \"__main__\":\n",
    "    uvicorn.run(app, host=\"127.0.0.1\", port=8000)"
   ]
  },
  {
   "cell_type": "code",
   "execution_count": null,
   "id": "18591cea-9458-4e30-8603-503e7fad9cb1",
   "metadata": {},
   "outputs": [],
   "source": []
  }
 ],
 "metadata": {
  "kernelspec": {
   "display_name": "Python 3 (ipykernel)",
   "language": "python",
   "name": "python3"
  },
  "language_info": {
   "codemirror_mode": {
    "name": "ipython",
    "version": 3
   },
   "file_extension": ".py",
   "mimetype": "text/x-python",
   "name": "python",
   "nbconvert_exporter": "python",
   "pygments_lexer": "ipython3",
   "version": "3.12.4"
  }
 },
 "nbformat": 4,
 "nbformat_minor": 5
}
