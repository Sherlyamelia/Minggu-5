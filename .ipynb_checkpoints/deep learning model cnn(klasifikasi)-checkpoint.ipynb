{
 "cells": [
  {
   "cell_type": "code",
   "execution_count": null,
   "id": "6826e348-806c-497b-8b22-967d39f1270a",
   "metadata": {},
   "outputs": [],
   "source": [
    "pip install tensorflow"
   ]
  },
  {
   "cell_type": "code",
   "execution_count": null,
   "id": "7b261893-b3f2-473f-be55-ac353f0d2833",
   "metadata": {},
   "outputs": [],
   "source": [
    "#Mengimpor pustaka yang diberikan\n",
    "import tensorflow as tf\n",
    "from tensorflow.keras import datasets, layers, models\n",
    "import numpy as np\n",
    "import matplotlib.pyplot as plt"
   ]
  },
  {
   "cell_type": "code",
   "execution_count": null,
   "id": "4b58c0fc-8513-47e7-aaf7-3b25ab490db3",
   "metadata": {},
   "outputs": [],
   "source": [
    "#memuat dataset MNIST (dataset angka tulisan tangan)\n",
    "#anda bisa menggantinya dengan dataset gambar lain\n",
    "(train_images, train_labels), (test_images, sets_labels) = datasets.mnist.load_data()\n",
    "\n",
    "#preprocessing data\n",
    "#mengubah dimensi data dan melakukan normalisasi (membuat nilai antara 0 dan 1)\n",
    "train_images = train_images.reshape((train_images.shape[0], 28, 28, 1)).astype('float32')/255\n",
    "test_images = test_images.reshape((test_images.shape[0], 28, 28, 1)).astype('float32')/255"
   ]
  },
  {
   "cell_type": "code",
   "execution_count": null,
   "id": "f3631d5b-3d0d-4c36-99c0-c36fcec97711",
   "metadata": {},
   "outputs": [],
   "source": [
    "#mengubah label menjadi bentuk one-hot encoding\n",
    "train_labels = tf.keras.utils.to_categorical(train_labels, 10)\n",
    "test_labels = tf.keras.utils.to_categorical(train_labels, 10)"
   ]
  },
  {
   "cell_type": "code",
   "execution_count": null,
   "id": "213feb62-d1c5-42dc-bb40-d2c2b3dd8a1d",
   "metadata": {},
   "outputs": [],
   "source": [
    "#membangun model CNN\n",
    "model = models.Sequential()\n",
    "#menambahkan layer konvolusi pertama\n",
    "model.add(layer.Conv2D(32, (3, 3), activation='relu', input_shape=(28, 28, 1)))\n",
    "#menambahkan layer pooling (pengurangan dimensi)\n",
    "model.add(layer.MaxPooling2D((2, 2)))\n",
    "#menambahkan layer konvolusi kedua\n",
    "model.add(layers.Conv2D(64, (3, 3), activation='relu'))\n",
    "model.add(layers.MaxPoolong2D((2, 2)))\n",
    "#menambahkan konvolusi ketiga\n",
    "model.add(layers.Conv2D(64, (3, 3), activation-'relu'))\n",
    "#menambahkan layer dense (fully connected layer)\n",
    "model.add(layers.Flatten())\n",
    "model.add(layers.Dense(64, activation='relu'))\n",
    "model.add(layers.Dense(10, activation='softmax')) #output 10 kelas (untuk klasifikasi 0-9)\n",
    "#melihat arsitektur model\n",
    "model.summary()\n",
    "#kompilasi model\n",
    "model.compile(optimizer='adam'. loss='categorical_crossentropy', metrics=['accuracy'])\n",
    "#melatih model\n",
    "history = model.fit(train_images, train_labels, epochd=5, validation_data=(test_images, test_labels))"
   ]
  },
  {
   "cell_type": "code",
   "execution_count": null,
   "id": "6a9e3929-79d5-4f96-bc4f-8110d11d1ec2",
   "metadata": {},
   "outputs": [],
   "source": [
    "#evaluasi model\n",
    "test_loss, test_acc = model.evaluate(test_images, test_labels, verbase=2)\n",
    "print(f'Akurasi pada data uji: (test_acc:.4f}')\n",
    "\n",
    "#plot hasil akurasi dan loss\n",
    "plt.plot(history.history['accuracy'], label='Akurasi Training')\n",
    "plt.plot(history.history"
   ]
  }
 ],
 "metadata": {
  "kernelspec": {
   "display_name": "Python 3 (ipykernel)",
   "language": "python",
   "name": "python3"
  },
  "language_info": {
   "codemirror_mode": {
    "name": "ipython",
    "version": 3
   },
   "file_extension": ".py",
   "mimetype": "text/x-python",
   "name": "python",
   "nbconvert_exporter": "python",
   "pygments_lexer": "ipython3",
   "version": "3.12.4"
  }
 },
 "nbformat": 4,
 "nbformat_minor": 5
}
